{
 "cells": [
  {
   "cell_type": "code",
   "execution_count": null,
   "id": "de9d5007",
   "metadata": {},
   "outputs": [],
   "source": [
    "import os\n",
    "from openai import OpenAI\n",
    "\n",
    "api_key = os.getenv(\"OPENAI_API_KEY\")\n",
    "if not api_key:\n",
    "    raise EnvironmentError(\"OPENAI_API_KEY environment variable not set.\")\n",
    "client = OpenAI(api_key=api_key)"
   ]
  },
  {
   "cell_type": "markdown",
   "id": "98a2a947",
   "metadata": {},
   "source": [
    "### CVQA MCQ SFT"
   ]
  },
  {
   "cell_type": "markdown",
   "id": "66e62d50",
   "metadata": {},
   "source": [
    "#### CVQA-MCQ-Overlapped"
   ]
  },
  {
   "cell_type": "code",
   "execution_count": null,
   "id": "ab6a6abe",
   "metadata": {},
   "outputs": [],
   "source": [
    "import json\n",
    "\n",
    "path = \"../data/cvqa_sft/cvqa_sft_gpt4o.jsonl\"\n",
    "\n",
    "# Read and parse the first line\n",
    "with open(path, \"r\", encoding=\"utf-8\") as f:\n",
    "    first_line = f.readline()\n",
    "    record = json.loads(first_line)\n",
    "\n",
    "print(json.dumps(record, ensure_ascii=False, indent=2))\n"
   ]
  },
  {
   "cell_type": "code",
   "execution_count": null,
   "id": "a599d48c",
   "metadata": {},
   "outputs": [],
   "source": [
    "training = client.files.create(\n",
    "    file=open(\"../data/cvqa_sft/cvqa_sft_gpt4o.jsonl\", \"rb\"),\n",
    "    purpose=\"fine-tune\"\n",
    ")\n",
    "\n",
    "print(\"file id =\", training.id)\n",
    "\n",
    "\n",
    "job = client.fine_tuning.jobs.create(\n",
    "  model=\"gpt-4o-2024-08-06\",\n",
    "  training_file=training.id,\n",
    "  method={\n",
    "        \"type\": \"supervised\",\n",
    "        \"supervised\": {\n",
    "            \"hyperparameters\": {\"n_epochs\": 1},\n",
    "        },\n",
    "    },\n",
    "  \n",
    ")\n",
    "print(\"fine-tune job id =\", job.id)"
   ]
  },
  {
   "cell_type": "markdown",
   "id": "209a4a92",
   "metadata": {},
   "source": [
    "#### CVQA-MCQ-Exclsive"
   ]
  },
  {
   "cell_type": "code",
   "execution_count": null,
   "id": "64250cf0",
   "metadata": {},
   "outputs": [],
   "source": [
    "import json\n",
    "\n",
    "path = \"../data/cvqa_sft/cvqa_sft_gpt4o_exclusive.jsonl\"\n",
    "\n",
    "# Read and parse the first line\n",
    "with open(path, \"r\", encoding=\"utf-8\") as f:\n",
    "    first_line = f.readline()\n",
    "    record = json.loads(first_line)\n",
    "\n",
    "print(json.dumps(record, ensure_ascii=False, indent=2))\n"
   ]
  },
  {
   "cell_type": "code",
   "execution_count": null,
   "id": "1fa8ec0b",
   "metadata": {},
   "outputs": [],
   "source": [
    "training = client.files.create(\n",
    "    file=open(\"../data/cvqa_sft/cvqa_sft_gpt4o_exclusive.jsonl\", \"rb\"),\n",
    "    purpose=\"fine-tune\"\n",
    ")\n",
    "\n",
    "print(\"file id =\", training.id)\n",
    "\n",
    "job = client.fine_tuning.jobs.create(\n",
    "  model=\"gpt-4o-2024-08-06\",\n",
    "  training_file=training.id,\n",
    "  method={\n",
    "        \"type\": \"supervised\",\n",
    "        \"supervised\": {\n",
    "            \"hyperparameters\": {\"n_epochs\": 1},\n",
    "        },\n",
    "    },\n",
    "  \n",
    ")\n",
    "print(\"fine-tune job id =\", job.id)\n"
   ]
  },
  {
   "cell_type": "markdown",
   "id": "c2b241e7",
   "metadata": {},
   "source": [
    "### Safety SFT"
   ]
  },
  {
   "cell_type": "markdown",
   "id": "b2559b0a",
   "metadata": {},
   "source": [
    "#### Safety-SFT-Overlapped"
   ]
  },
  {
   "cell_type": "code",
   "execution_count": null,
   "id": "694841b0",
   "metadata": {},
   "outputs": [],
   "source": [
    "import json\n",
    "\n",
    "path = \"../data/safety_sft/safety_sft_gpt4o.jsonl\"\n",
    "\n",
    "# Read and parse the first line\n",
    "with open(path, \"r\", encoding=\"utf-8\") as f:\n",
    "    first_line = f.readline()\n",
    "    record = json.loads(first_line)\n",
    "\n",
    "print(json.dumps(record, ensure_ascii=False, indent=2))\n"
   ]
  },
  {
   "cell_type": "code",
   "execution_count": null,
   "id": "42fb53c7",
   "metadata": {},
   "outputs": [],
   "source": [
    "training = client.files.create(\n",
    "    file=open(f\"../data/safety_sft/safety_sft_gpt4o.jsonl\", \"rb\"),\n",
    "    purpose=\"fine-tune\"\n",
    ")\n",
    "\n",
    "print(\"file id =\", training.id)\n",
    "\n",
    "job = client.fine_tuning.jobs.create(\n",
    "  model=\"gpt-4o-2024-08-06\",\n",
    "  training_file=training.id,\n",
    "  method={\n",
    "        \"type\": \"supervised\",\n",
    "        \"supervised\": {\n",
    "            \"hyperparameters\": {\"n_epochs\": 1},\n",
    "        },\n",
    "    },\n",
    "  \n",
    ")\n",
    "print(\"fine-tune job id =\", job.id)"
   ]
  },
  {
   "cell_type": "markdown",
   "id": "264f90b4",
   "metadata": {},
   "source": [
    "#### Safety-SFT-Exclsive"
   ]
  },
  {
   "cell_type": "code",
   "execution_count": null,
   "id": "1f1c7ba3",
   "metadata": {},
   "outputs": [],
   "source": [
    "import json\n",
    "\n",
    "path = \"../data/safety_sft/safety_sft_gpt4o_exclusive.jsonl\"\n",
    "\n",
    "# Read and parse the first line\n",
    "with open(path, \"r\", encoding=\"utf-8\") as f:\n",
    "    first_line = f.readline()\n",
    "    record = json.loads(first_line)\n",
    "\n",
    "print(json.dumps(record, ensure_ascii=False, indent=2))\n"
   ]
  },
  {
   "cell_type": "code",
   "execution_count": null,
   "id": "53d068e3",
   "metadata": {},
   "outputs": [],
   "source": [
    "training = client.files.create(\n",
    "    file=open(f\"../data/safety_sft/safety_sft_gpt4o_exclusive.jsonl\", \"rb\"),\n",
    "    purpose=\"fine-tune\"\n",
    ")\n",
    "\n",
    "print(\"file id =\", training.id)\n",
    "\n",
    "job = client.fine_tuning.jobs.create(\n",
    "  model=\"gpt-4o-2024-08-06\",\n",
    "  training_file=training.id,\n",
    "  method={\n",
    "        \"type\": \"supervised\",\n",
    "        \"supervised\": {\n",
    "            \"hyperparameters\": {\"n_epochs\": 1},\n",
    "        },\n",
    "    },\n",
    "  \n",
    ")\n",
    "print(\"fine-tune job id =\", job.id)"
   ]
  },
  {
   "cell_type": "markdown",
   "id": "f5767068",
   "metadata": {},
   "source": [
    "### Safety DPO"
   ]
  },
  {
   "cell_type": "markdown",
   "id": "86abccc6",
   "metadata": {},
   "source": [
    "#### Safety-DPO-Overlapped"
   ]
  },
  {
   "cell_type": "code",
   "execution_count": null,
   "id": "45322b06",
   "metadata": {},
   "outputs": [],
   "source": [
    "import json\n",
    "\n",
    "path = \"../data/safety_dpo/safety_dpo_gpt4o.jsonl\"\n",
    "\n",
    "# Read and parse the first line\n",
    "with open(path, \"r\", encoding=\"utf-8\") as f:\n",
    "    first_line = f.readline()\n",
    "    record = json.loads(first_line)\n",
    "\n",
    "print(json.dumps(record, ensure_ascii=False, indent=2))\n"
   ]
  },
  {
   "cell_type": "code",
   "execution_count": null,
   "id": "daf5c67a",
   "metadata": {},
   "outputs": [],
   "source": [
    "training = client.files.create(\n",
    "    file=open(\"../data/safety_dpo/safety_dpo_gpt4o.jsonl\", \"rb\"),\n",
    "    purpose=\"fine-tune\"\n",
    ")\n",
    "\n",
    "print(\"file id =\", training.id)\n",
    "\n",
    "job = client.fine_tuning.jobs.create(\n",
    "    training_file=training.id,\n",
    "    model=\"gpt-4o-2024-08-06\",\n",
    "    method={\n",
    "        \"type\": \"dpo\",\n",
    "        \"dpo\": {\n",
    "            \"hyperparameters\": {\"beta\": 0.1, \"n_epochs\": 1, \"batch_size\": 8}\n",
    "        },\n",
    "    },\n",
    ")\n",
    "\n",
    "print(\"fine-tune job id =\", job.id)"
   ]
  },
  {
   "cell_type": "markdown",
   "id": "479751fc",
   "metadata": {},
   "source": [
    "#### Safety-DPO-Exclsive"
   ]
  },
  {
   "cell_type": "code",
   "execution_count": null,
   "id": "db17da52",
   "metadata": {},
   "outputs": [],
   "source": [
    "import json\n",
    "\n",
    "path = \"../data/safety_dpo/safety_dpo_gpt4o_exclusive.jsonl\"\n",
    "\n",
    "# Read and parse the first line\n",
    "with open(path, \"r\", encoding=\"utf-8\") as f:\n",
    "    first_line = f.readline()\n",
    "    record = json.loads(first_line)\n",
    "\n",
    "print(json.dumps(record, ensure_ascii=False, indent=2))\n"
   ]
  },
  {
   "cell_type": "code",
   "execution_count": null,
   "id": "2c093246",
   "metadata": {},
   "outputs": [],
   "source": [
    "training = client.files.create(\n",
    "    file=open(\"../data/safety_dpo/safety_dpo_gpt4o_exclusive.jsonl\", \"rb\"),\n",
    "    purpose=\"fine-tune\"\n",
    ")\n",
    "\n",
    "print(\"file id =\", training.id)\n",
    "\n",
    "job = client.fine_tuning.jobs.create(\n",
    "    training_file=training.id,\n",
    "    model=\"gpt-4o-2024-08-06\",\n",
    "    method={\n",
    "        \"type\": \"dpo\",\n",
    "        \"dpo\": {\n",
    "            \"hyperparameters\": {\"beta\": 0.1, \"n_epochs\": 1, \"batch_size\": 8}\n",
    "        },\n",
    "    },\n",
    ")\n",
    "\n",
    "print(\"fine-tune job id =\", job.id)"
   ]
  }
 ],
 "metadata": {
  "kernelspec": {
   "display_name": "dit_bias",
   "language": "python",
   "name": "python3"
  },
  "language_info": {
   "codemirror_mode": {
    "name": "ipython",
    "version": 3
   },
   "file_extension": ".py",
   "mimetype": "text/x-python",
   "name": "python",
   "nbconvert_exporter": "python",
   "pygments_lexer": "ipython3",
   "version": "3.8.20"
  }
 },
 "nbformat": 4,
 "nbformat_minor": 5
}
